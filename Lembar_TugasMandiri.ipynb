{
 "cells": [
  {
   "cell_type": "markdown",
   "id": "2678f209-385c-4d94-9114-efee6e252ecd",
   "metadata": {},
   "source": [
    "<center>\n",
    "    <img src=\"https://drive.google.com/uc?export=view&id=1hDKusF04c0lNZA_qOShvWQrpImayVKz8\" width=\"1000\"/>\n",
    "</center>"
   ]
  },
  {
   "cell_type": "markdown",
   "id": "9ac8f556-8289-4871-9ac9-3753ad292c74",
   "metadata": {},
   "source": [
    "# Lembar Tugas Mandiri\n",
    "## Data Diri\n",
    "Nama : ...\n",
    "\n",
    "Kelas : ..."
   ]
  },
  {
   "cell_type": "markdown",
   "id": "43fb8e19-72e2-4e61-bdf0-17f7089410d8",
   "metadata": {},
   "source": [
    "# Dataset\n",
    "The dataset consists of 5 columns\n",
    "\n",
    "- culmen_length_mm: culmen length (mm)\n",
    "\n",
    "- culmen_depth_mm: culmen depth (mm)\n",
    "\n",
    "- flipper_length_mm: flipper length (mm)\n",
    "\n",
    "- body_mass_g: body mass (g)\n",
    "\n",
    "- sex: penguin sex\n",
    "\n",
    "[Download Dataset](https://drive.google.com/file/d/1VdD2BdovCMlJ4_UklX70bfPelHgXfEvi/view?usp=drive_link)"
   ]
  },
  {
   "cell_type": "markdown",
   "id": "a910c67f-ca7e-406d-aea0-bb5d18aa0a3a",
   "metadata": {},
   "source": [
    "# Data Understanding\n",
    "1. Identifikasi Tipe data dari setiap Kolom\n",
    "2. Identifikasi Missing Value\n",
    "3. Identifikasi Dimensi Dataset\n",
    "4. Mengetahui Statistik Dasar untuk tipe data : Numerik dan Kategorik"
   ]
  },
  {
   "cell_type": "code",
   "execution_count": null,
   "id": "6feb17cc-dec2-4eb5-9665-d3029ee019ff",
   "metadata": {},
   "outputs": [],
   "source": []
  },
  {
   "cell_type": "markdown",
   "id": "91ae3a18-8562-4d60-998d-872b32698101",
   "metadata": {},
   "source": [
    "# Data Preparation\n",
    "1. Melakukan imputasi untuk nilai missing value (NAN)\n",
    "2. Melakukan penskalaan data\n",
    "3. Membuat pie chart untuk melihat persentase jenis kelamin Perempuan dan Laki-laki\n",
    "4. Buat sebuah chart bebas dan berikan insight hasil visualisasi tersebut"
   ]
  },
  {
   "cell_type": "code",
   "execution_count": null,
   "id": "d6668f7b-31bf-42f2-bcc1-6dc91eb8dbc6",
   "metadata": {},
   "outputs": [],
   "source": []
  },
  {
   "cell_type": "markdown",
   "id": "e886b7eb-1276-44a3-a451-b030690eb52c",
   "metadata": {},
   "source": [
    "# Modeling\n",
    "1. Split data Training dan data Testing\n",
    "2. Membuat model klasifikasi dari data yang terpilih"
   ]
  },
  {
   "cell_type": "code",
   "execution_count": null,
   "id": "640c3837-b7b7-4494-a201-a5a2399dd217",
   "metadata": {},
   "outputs": [],
   "source": []
  },
  {
   "cell_type": "markdown",
   "id": "b3619261-3ee2-4870-a990-cc325ff2ab00",
   "metadata": {},
   "source": [
    "# Evaluasi\n",
    "1. Membuat classification report untuk nilai akurasi model"
   ]
  },
  {
   "cell_type": "code",
   "execution_count": null,
   "id": "531f6923-82a9-48ca-beb5-7f5eed689788",
   "metadata": {},
   "outputs": [],
   "source": []
  }
 ],
 "metadata": {
  "kernelspec": {
   "display_name": "Python 3 (ipykernel)",
   "language": "python",
   "name": "python3"
  },
  "language_info": {
   "codemirror_mode": {
    "name": "ipython",
    "version": 3
   },
   "file_extension": ".py",
   "mimetype": "text/x-python",
   "name": "python",
   "nbconvert_exporter": "python",
   "pygments_lexer": "ipython3",
   "version": "3.8.10"
  }
 },
 "nbformat": 4,
 "nbformat_minor": 5
}
